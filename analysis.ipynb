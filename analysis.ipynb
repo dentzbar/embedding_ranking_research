{
  "cells": [
    {
      "cell_type": "raw",
      "metadata": {
        "vscode": {
          "languageId": "raw"
        }
      },
      "source": [
        "# Text Embedding Compression Analysis\n",
        "\n",
        "This notebook provides analysis tools for comparing different texts against different ranking hash tables generated from BERT and OpenAI embeddings.\n"
      ]
    },
    {
      "cell_type": "code",
      "execution_count": null,
      "metadata": {},
      "outputs": [],
      "source": [
        "# Import required libraries\n",
        "import numpy as np\n",
        "import pandas as pd\n",
        "import matplotlib.pyplot as plt\n",
        "import seaborn as sns\n",
        "from utils import (\n",
        "    load_ranking_dict, \n",
        "    get_text_ranks, \n",
        "    analyze_text_compression,\n",
        "    compare_rankings,\n",
        "    find_ranking_files,\n",
        "    extract_reference_word_from_filename,\n",
        "    batch_analyze_texts\n",
        ")\n",
        "import os\n",
        "from typing import List, Dict\n",
        "import warnings\n",
        "warnings.filterwarnings('ignore')\n",
        "\n",
        "# Set plotting style\n",
        "plt.style.use('seaborn-v0_8')\n",
        "sns.set_palette(\"husl\")\n",
        "\n",
        "print(\"✓ Libraries imported successfully\")\n"
      ]
    },
    {
      "cell_type": "raw",
      "metadata": {
        "vscode": {
          "languageId": "raw"
        }
      },
      "source": [
        "## 1. Load Available Ranking Files\n"
      ]
    },
    {
      "cell_type": "code",
      "execution_count": null,
      "metadata": {},
      "outputs": [],
      "source": [
        "# Find all available ranking files\n",
        "ranking_files = find_ranking_files('.')\n",
        "\n",
        "print(f\"Found {len(ranking_files)} ranking files:\")\n",
        "\n",
        "ranking_info = []\n",
        "for i, filepath in enumerate(ranking_files):\n",
        "    filename = os.path.basename(filepath)\n",
        "    ref_word = extract_reference_word_from_filename(filepath)\n",
        "    model_type = 'BERT' if 'bert' in filename.lower() else 'OpenAI'\n",
        "    file_size = os.path.getsize(filepath) / (1024 * 1024)  # MB\n",
        "    \n",
        "    ranking_info.append({\n",
        "        'Index': i,\n",
        "        'Filename': filename,\n",
        "        'Model': model_type,\n",
        "        'Reference Word': ref_word,\n",
        "        'Size (MB)': f\"{file_size:.2f}\",\n",
        "        'Path': filepath\n",
        "    })\n",
        "    \n",
        "    print(f\"  {i}: {filename} | {model_type} | Ref: '{ref_word}' | {file_size:.2f} MB\")\n",
        "\n",
        "# Convert to DataFrame for easier manipulation\n",
        "ranking_df = pd.DataFrame(ranking_info)\n",
        "ranking_df\n"
      ]
    }
  ],
  "metadata": {
    "language_info": {
      "name": "python"
    }
  },
  "nbformat": 4,
  "nbformat_minor": 2
}
